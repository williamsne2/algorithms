{
 "cells": [
  {
   "cell_type": "code",
   "execution_count": 113,
   "metadata": {},
   "outputs": [],
   "source": [
    "X_ = [-5, -4, -3, -2, -1, 0, 1, 2, 3, 4, 5]\n",
    "Y_ = [-6, 1, -2, 4, -1, 0, 0, 5, -1, 7, 10]\n",
    "Z_ = [[1, 2, 3], [3, 2, 4], [-2, 10, 4]]\n",
    "Y_2 = [0, -5, 3]"
   ]
  },
  {
   "cell_type": "code",
   "execution_count": 183,
   "metadata": {},
   "outputs": [],
   "source": [
    "def linear_regression(X, Y):\n",
    "    alpha_ = alpha(X, Y)\n",
    "    beta_ = beta(X, Y)\n",
    "    Y_pred = []\n",
    "    \n",
    "    for i in range(0, len(Y)):\n",
    "        if(isinstance(X[0], list)):\n",
    "            Y_pred.append(alpha_ + sum([beta_[j]*X[j][i] for j in range(0, len(beta_))]))\n",
    "        else:\n",
    "            Y_pred.append(alpha_ + beta_*X[i])\n",
    "    return Y_pred\n",
    "\n",
    "def beta(X, Y):\n",
    "    beta = []\n",
    "    if(isinstance(X[0], list)):\n",
    "        return [cov(col, Y)/variance(col) for col in X]\n",
    "    else:\n",
    "        return cov(X, Y)/variance(X)\n",
    "    #beta.append([cov(X[col][:], Y)/(variance(X[col][:])) for col in X])\n",
    "\n",
    "def alpha(X, Y):\n",
    "    if(isinstance(X[0], list)):\n",
    "        return mean(Y) - sum([beta(col, Y)*mean(col) for col in X])\n",
    "    else:\n",
    "        return mean(Y) - beta(X, Y)*mean(X)\n",
    "\n",
    "def mean(Z):\n",
    "    if(isinstance(Z[0], list)):\n",
    "        mu_z = [sum(col)/len(col) for col in Z]\n",
    "    else:\n",
    "        mu_z = sum(Z)/len(Z)\n",
    "    return mu_z\n",
    "\n",
    "def std(Z):\n",
    "    import math\n",
    "    return math.sqrt(variance(Z))\n",
    "\n",
    "def variance(Z):\n",
    "    var_z = 0\n",
    "    if(isinstance(Z[0], list)):\n",
    "        N = len(Z)\n",
    "        for i in range(0, N):\n",
    "            for j in range(0, N):\n",
    "                var_z += cov(Z[i], Z[j])\n",
    "    else:\n",
    "        var_z = cov(Z, Z)\n",
    "    return var_z\n",
    "\n",
    "def cov(X, Y):\n",
    "    X_bar = mean(X)\n",
    "    Y_bar = mean(Y)\n",
    "    cov = []\n",
    "    if(isinstance(Y[0], list)):\n",
    "        print(\"Error: Y must be a 1-D list\")\n",
    "    elif(isinstance(X[0], list)):\n",
    "        if(len(X[0]) != len(Y)):\n",
    "            print(\"Error: Dimensionality mismatch\")\n",
    "        else:\n",
    "            N = len(X)\n",
    "            k = len(Y)\n",
    "            for i in range(0, N):\n",
    "                for j in range(0, k):\n",
    "                    cov[i] = (1/(k-1))*sum([(X[i][j] - X_bar[i])*(Y[j] - Y_bar)])\n",
    "    else:\n",
    "        N = len(X)\n",
    "        cov = (1/(N-1))*sum([(X[i] - X_bar)*(Y[i] - Y_bar) for i in range(0, N)])\n",
    "    return cov\n",
    "\n",
    "def corr(X, Y):\n",
    "    N_X = N_Y = 1\n",
    "    if(isinstance(X[0], list)):\n",
    "        N_X = len(X)\n",
    "    if(isinstance(Y[0], list)):\n",
    "        N_Y = len(Y)\n",
    "    corr = [[0 for i in range(0, N_X+N_Y)] for j in range(0, N_X+N_Y)]\n",
    "    print(corr)\n",
    "    mat = []\n",
    "    if(isinstance(X[0], list)):\n",
    "        for col in X.copy():\n",
    "            mat.append(col)\n",
    "    else:\n",
    "        mat.append(X.copy())\n",
    "    mat.append(Y.copy())\n",
    "    for i in range(0, len(mat)):\n",
    "        for j in range(0, len(mat)):\n",
    "            print(mat[i], mat[j])\n",
    "            corr[i][j] = cov(mat[i], mat[j])/(std(mat[i])*std(mat[j]))\n",
    "    return corr\n",
    "\n",
    "def r_2(X, Y):\n",
    "\tif(isinstance(Y[0], list)):\n",
    "\t\tprint(\"Y must be a 1D array\")\n",
    "\telif(isinstance(X[0], list)):\n",
    "\t\treturn [corr(col, Y)**2 for col in X]\n",
    "\telse:\n",
    "\t\treturn corr(X, Y)**2\n",
    "\n",
    "def mean(Z):\n",
    "    if(isinstance(Z[0], list)):\n",
    "        return [sum(col)/len(col) for col in Z]\n",
    "    else:\n",
    "        return sum(Z)/len(Z)"
   ]
  },
  {
   "cell_type": "code",
   "execution_count": 191,
   "metadata": {},
   "outputs": [
    {
     "name": "stdout",
     "output_type": "stream",
     "text": [
      "[-6.456266907123536, -4.970694319206493, -2.9995491433724077, -1.9995491433724077, -0.5139765554553654, 5.827321911632101, 2.4571686203787197, 4.913886384129847, 5.428313796212804, 6.913886384129847, 8.39945897204689]\n"
     ]
    }
   ],
   "source": [
    "X = [[-5, -4, -3, -2, -1, 0, 1, 2, 3, 4, 5], [-5, -4, -2, -2, -1, 10, 1, 4, 3, 4, 5]]\n",
    "Y = [-6, 1, -2, 4, -1, 0, 0, 5, -1, 7, 10]\n",
    "Y_pred_1 = linear_regression(X, Y)\n",
    "print(Y_pred_1)"
   ]
  },
  {
   "cell_type": "code",
   "execution_count": 188,
   "metadata": {},
   "outputs": [
    {
     "name": "stdout",
     "output_type": "stream",
     "text": [
      "[-3.4545454545454546, -2.4545454545454546, -1.4545454545454546, -0.4545454545454546, 0.5454545454545454, 1.5454545454545454, 2.5454545454545454, 3.5454545454545454, 4.545454545454545, 5.545454545454545, 6.545454545454545]\n"
     ]
    }
   ],
   "source": [
    "X = [-5, -4, -3, -2, -1, 0, 1, 2, 3, 4, 5]\n",
    "Y = [-6, 1, -2, 4, -1, 0, 0, 5, -1, 7, 10]\n",
    "Y_pred = linear_regression(X, Y)\n",
    "print(Y_pred)"
   ]
  },
  {
   "cell_type": "code",
   "execution_count": 190,
   "metadata": {},
   "outputs": [
    {
     "data": {
      "text/plain": [
       "[<matplotlib.lines.Line2D at 0x15b11670>]"
      ]
     },
     "execution_count": 190,
     "metadata": {},
     "output_type": "execute_result"
    },
    {
     "data": {
      "image/png": "[encoded data removed]",
      "text/plain": [
       "<Figure size 432x288 with 1 Axes>"
      ]
     },
     "metadata": {
      "needs_background": "light"
     },
     "output_type": "display_data"
    }
   ],
   "source": [
    "import matplotlib.pyplot as plt\n",
    "plt.plot(Y_pred_1)"
   ]
  },
  {
   "cell_type": "code",
   "execution_count": 184,
   "metadata": {},
   "outputs": [
    {
     "ename": "TypeError",
     "evalue": "can only concatenate list (not \"float\") to list",
     "output_type": "error",
     "traceback": [
      "\u001b[1;31m---------------------------------------------------------------------------\u001b[0m",
      "\u001b[1;31mTypeError\u001b[0m                                 Traceback (most recent call last)",
      "\u001b[1;32m<ipython-input-184-c46e0d667c12>\u001b[0m in \u001b[0;36m<module>\u001b[1;34m\u001b[0m\n\u001b[0;32m      2\u001b[0m \u001b[0merr\u001b[0m \u001b[1;33m=\u001b[0m \u001b[1;36m0\u001b[0m\u001b[1;33m\u001b[0m\u001b[1;33m\u001b[0m\u001b[0m\n\u001b[0;32m      3\u001b[0m \u001b[1;32mfor\u001b[0m \u001b[0mi\u001b[0m \u001b[1;32min\u001b[0m \u001b[0mrange\u001b[0m\u001b[1;33m(\u001b[0m\u001b[1;36m0\u001b[0m\u001b[1;33m,\u001b[0m \u001b[0mlen\u001b[0m\u001b[1;33m(\u001b[0m\u001b[0mX\u001b[0m\u001b[1;33m)\u001b[0m\u001b[1;33m)\u001b[0m\u001b[1;33m:\u001b[0m\u001b[1;33m\u001b[0m\u001b[1;33m\u001b[0m\u001b[0m\n\u001b[1;32m----> 4\u001b[1;33m     \u001b[0mY_hat\u001b[0m\u001b[1;33m.\u001b[0m\u001b[0mappend\u001b[0m\u001b[1;33m(\u001b[0m\u001b[0mX\u001b[0m\u001b[1;33m[\u001b[0m\u001b[0mi\u001b[0m\u001b[1;33m]\u001b[0m\u001b[1;33m+\u001b[0m\u001b[1;36m1.54545\u001b[0m\u001b[1;33m)\u001b[0m\u001b[1;33m\u001b[0m\u001b[1;33m\u001b[0m\u001b[0m\n\u001b[0m\u001b[0;32m      5\u001b[0m     \u001b[0merr\u001b[0m \u001b[1;33m+=\u001b[0m \u001b[0mY_pred\u001b[0m\u001b[1;33m[\u001b[0m\u001b[0mi\u001b[0m\u001b[1;33m]\u001b[0m\u001b[1;33m-\u001b[0m\u001b[0mY_hat\u001b[0m\u001b[1;33m[\u001b[0m\u001b[0mi\u001b[0m\u001b[1;33m]\u001b[0m\u001b[1;33m\u001b[0m\u001b[1;33m\u001b[0m\u001b[0m\n\u001b[0;32m      6\u001b[0m \u001b[0mprint\u001b[0m\u001b[1;33m(\u001b[0m\u001b[0merr\u001b[0m\u001b[1;33m)\u001b[0m\u001b[1;33m\u001b[0m\u001b[1;33m\u001b[0m\u001b[0m\n",
      "\u001b[1;31mTypeError\u001b[0m: can only concatenate list (not \"float\") to list"
     ]
    }
   ],
   "source": [
    "Y_hat = []\n",
    "err = 0\n",
    "for i in range(0, len(X)):\n",
    "    Y_hat.append(X[i]+1.54545)\n",
    "    err += Y_pred[i]-Y_hat[i]\n",
    "print(err)"
   ]
  }
 ],
 "metadata": {
  "kernelspec": {
   "display_name": "Python 3",
   "language": "python",
   "name": "python3"
  },
  "language_info": {
   "codemirror_mode": {
    "name": "ipython",
    "version": 3
   },
   "file_extension": ".py",
   "mimetype": "text/x-python",
   "name": "python",
   "nbconvert_exporter": "python",
   "pygments_lexer": "ipython3",
   "version": "3.7.3"
  }
 },
 "nbformat": 4,
 "nbformat_minor": 2
}
